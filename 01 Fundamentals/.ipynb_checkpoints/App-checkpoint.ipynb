{
 "cells": [
  {
   "cell_type": "markdown",
   "metadata": {},
   "source": [
    "# App survey\n",
    "    Guided Project: Profitable App Profiles for the App Store and Google Play Markets"
   ]
  },
  {
   "cell_type": "code",
   "execution_count": 1,
   "metadata": {},
   "outputs": [],
   "source": [
    "def file_to_list(path,has_header=True):\n",
    "    opened_file = open(path)\n",
    "    from csv import reader\n",
    "    read_file = reader(opened_file)\n",
    "    result_list = list(read_file)\n",
    "    if has_header:\n",
    "        return result_list[0],result_list[1:]\n",
    "    return result_list\n",
    "\n",
    "def explore_data(dataset, start, end, rows_and_columns=False):\n",
    "    dataset_slice = dataset[start:end]\n",
    "    for row in dataset_slice:\n",
    "        print(row)\n",
    "        print(\"\\n\")        \n",
    "    if rows_and_columns:\n",
    "        print(\"Number of rows: \"+str(len(dataset)))\n",
    "        print(\"Number of columns: \"+str(len(dataset[0])))\n"
   ]
  },
  {
   "cell_type": "code",
   "execution_count": 2,
   "metadata": {},
   "outputs": [],
   "source": [
    "header_apple,data_apple = file_to_list('AppleStore.csv')\n",
    "header_google,data_google = file_to_list('googleplaystore.csv')"
   ]
  },
  {
   "cell_type": "code",
   "execution_count": 3,
   "metadata": {},
   "outputs": [
    {
     "name": "stdout",
     "output_type": "stream",
     "text": [
      "['id', 'track_name', 'size_bytes', 'currency', 'price', 'rating_count_tot', 'rating_count_ver', 'user_rating', 'user_rating_ver', 'ver', 'cont_rating', 'prime_genre', 'sup_devices.num', 'ipadSc_urls.num', 'lang.num', 'vpp_lic']\n",
      "\n",
      "['284882215', 'Facebook', '389879808', 'USD', '0.0', '2974676', '212', '3.5', '3.5', '95.0', '4+', 'Social Networking', '37', '1', '29', '1']\n",
      "\n",
      "\n",
      "['389801252', 'Instagram', '113954816', 'USD', '0.0', '2161558', '1289', '4.5', '4.0', '10.23', '12+', 'Photo & Video', '37', '0', '29', '1']\n",
      "\n",
      "\n",
      "['529479190', 'Clash of Clans', '116476928', 'USD', '0.0', '2130805', '579', '4.5', '4.5', '9.24.12', '9+', 'Games', '38', '5', '18', '1']\n",
      "\n",
      "\n",
      "['420009108', 'Temple Run', '65921024', 'USD', '0.0', '1724546', '3842', '4.5', '4.0', '1.6.2', '9+', 'Games', '40', '5', '1', '1']\n",
      "\n",
      "\n",
      "Number of rows: 7197\n",
      "Number of columns: 16\n",
      "\n",
      "\n",
      "\n",
      "['App', 'Category', 'Rating', 'Reviews', 'Size', 'Installs', 'Type', 'Price', 'Content Rating', 'Genres', 'Last Updated', 'Current Ver', 'Android Ver']\n",
      "\n"
     ]
    }
   ],
   "source": [
    "#data exploration\n",
    "print(header_apple)\n",
    "print()\n",
    "explore_data(data_apple,0,4,True)\n",
    "print(\"\\n\\n\")\n",
    "print(header_google)\n",
    "print()\n",
    "# explore_data(data_google,0,2,True)"
   ]
  },
  {
   "cell_type": "code",
   "execution_count": 4,
   "metadata": {},
   "outputs": [
    {
     "name": "stdout",
     "output_type": "stream",
     "text": [
      "10472\n",
      "['Life Made WI-Fi Touchscreen Photo Frame', '1.9', '19', '3.0M', '1,000+', 'Free', '0', 'Everyone', '', 'February 11, 2018', '1.0.19', '4.0 and up']\n"
     ]
    }
   ],
   "source": [
    "#data cleaning\n",
    "index = 0\n",
    "for row in data_google:\n",
    "    if row[0]=='Life Made WI-Fi Touchscreen Photo Frame':\n",
    "        print(index)\n",
    "        print(row)\n",
    "        break\n",
    "    index += 1"
   ]
  },
  {
   "cell_type": "code",
   "execution_count": 5,
   "metadata": {},
   "outputs": [
    {
     "name": "stdout",
     "output_type": "stream",
     "text": [
      "['osmino Wi-Fi: free WiFi', 'TOOLS', '4.2', '134203', '4.1M', '10,000,000+', 'Free', '0', 'Everyone', 'Tools', 'August 7, 2018', '6.06.14', '4.4 and up']\n"
     ]
    }
   ],
   "source": [
    "del data_google[index]\n",
    "print(data_google[index])"
   ]
  },
  {
   "cell_type": "code",
   "execution_count": 6,
   "metadata": {},
   "outputs": [
    {
     "name": "stdout",
     "output_type": "stream",
     "text": [
      "['Quick PDF Scanner + OCR FREE', 'Box', 'Google My Business', 'ZOOM Cloud Meetings', 'join.me - Simple Meetings']\n",
      "Number of duplicate records:  1181\n",
      "['Quick PDF Scanner + OCR FREE', 'BUSINESS', '4.2', '80805', 'Varies with device', '5,000,000+', 'Free', '0', 'Everyone', 'Business', 'February 26, 2018', 'Varies with device', '4.0.3 and up']\n",
      "['Quick PDF Scanner + OCR FREE', 'BUSINESS', '4.2', '80805', 'Varies with device', '5,000,000+', 'Free', '0', 'Everyone', 'Business', 'February 26, 2018', 'Varies with device', '4.0.3 and up']\n",
      "['Quick PDF Scanner + OCR FREE', 'BUSINESS', '4.2', '80804', 'Varies with device', '5,000,000+', 'Free', '0', 'Everyone', 'Business', 'February 26, 2018', 'Varies with device', '4.0.3 and up']\n"
     ]
    }
   ],
   "source": [
    "unique_app = []\n",
    "duplicate_app = []\n",
    "for row in data_google:\n",
    "    name = row[0]\n",
    "    if name in unique_app:\n",
    "        duplicate_app.append(name)\n",
    "    else:\n",
    "        unique_app.append(name)\n",
    "print(duplicate_app[:5])\n",
    "print(\"Number of duplicate records: \", len(duplicate_app))\n",
    "for row in data_google:\n",
    "    name = row[0]\n",
    "    if name=='Quick PDF Scanner + OCR FREE':\n",
    "        print(row)"
   ]
  },
  {
   "cell_type": "markdown",
   "metadata": {},
   "source": [
    "--The higher the number of reviews, the more recent the data should be. Rather than removing duplicates randomly, we'll only keep the row with the highest number of reviews and remove the other entries for any given app."
   ]
  },
  {
   "cell_type": "code",
   "execution_count": 7,
   "metadata": {},
   "outputs": [
    {
     "name": "stdout",
     "output_type": "stream",
     "text": [
      "Original Length:  10840\n",
      "Expected length:  9659\n"
     ]
    }
   ],
   "source": [
    "original_length = len(data_google)\n",
    "print(\"Original Length: \", original_length)\n",
    "print(\"Expected length: \", original_length-len(duplicate_app))"
   ]
  },
  {
   "cell_type": "code",
   "execution_count": 8,
   "metadata": {},
   "outputs": [
    {
     "name": "stdout",
     "output_type": "stream",
     "text": [
      "9659\n"
     ]
    }
   ],
   "source": [
    "reviews_max={}\n",
    "for row in data_google:\n",
    "    name = row[0]\n",
    "    n_reviews = int(row[3])\n",
    "    if name in reviews_max:\n",
    "        reviews_max[name] = max(reviews_max[name],n_reviews)\n",
    "    else:\n",
    "        reviews_max[name] = n_reviews\n",
    "print(len(reviews_max))"
   ]
  },
  {
   "cell_type": "markdown",
   "metadata": {},
   "source": [
    "--clean the data, pick the right record: specific name relevant to max reviews and have not been added into cleaned data(avoid completely same records have max reviews)"
   ]
  },
  {
   "cell_type": "code",
   "execution_count": 9,
   "metadata": {},
   "outputs": [
    {
     "name": "stdout",
     "output_type": "stream",
     "text": [
      "9659\n"
     ]
    }
   ],
   "source": [
    "android_clean=[]\n",
    "already_added=[]\n",
    "for row in data_google:\n",
    "    name = row[0]\n",
    "    n_reviews = int(row[3])\n",
    "    if reviews_max[name]==n_reviews and name not in already_added:\n",
    "        android_clean.append(row)\n",
    "        already_added.append(name)\n",
    "print(len(android_clean))"
   ]
  },
  {
   "cell_type": "code",
   "execution_count": 10,
   "metadata": {},
   "outputs": [],
   "source": [
    "#delete non-English apps\n",
    "# def isEnglish(input):\n",
    "#     for char in input:\n",
    "#         if ord(char) > 127:\n",
    "#             return False\n",
    "#     return True\n",
    "# print(isEnglish(\"dfksk723bd\"))\n",
    "# print(isEnglish(\"多少度\"))\n",
    "# print(isEnglish(\"dsdbadksa😁\"))"
   ]
  },
  {
   "cell_type": "code",
   "execution_count": 11,
   "metadata": {},
   "outputs": [
    {
     "name": "stdout",
     "output_type": "stream",
     "text": [
      "True\n",
      "False\n",
      "True\n"
     ]
    }
   ],
   "source": [
    "#delete too many apps, some English apps with emojis may be deleted wrongly\n",
    "def isEnglish(input):\n",
    "    counter = 0\n",
    "    for char in input:\n",
    "        if ord(char) > 127:\n",
    "            counter += 1\n",
    "    if counter>3:\n",
    "        return False\n",
    "    else:\n",
    "        return True\n",
    "print(isEnglish(\"dfksk723bd\"))\n",
    "print(isEnglish(\"多少度就\"))\n",
    "print(isEnglish(\"dsdbadksa😁\"))"
   ]
  },
  {
   "cell_type": "code",
   "execution_count": 12,
   "metadata": {},
   "outputs": [
    {
     "name": "stdout",
     "output_type": "stream",
     "text": [
      "android\n",
      "9659\n",
      "9614\n",
      "ios\n",
      "7197\n",
      "6183\n"
     ]
    }
   ],
   "source": [
    "print(\"android\")\n",
    "print(len(android_clean))\n",
    "android_english=[]\n",
    "for row in android_clean:\n",
    "    if isEnglish(row[0]):\n",
    "        android_english.append(row)\n",
    "print(len(android_english))\n",
    "\n",
    "print(\"ios\")\n",
    "print(len(data_apple))\n",
    "ios_english=[]\n",
    "for row in data_apple:\n",
    "    if isEnglish(row[1]):\n",
    "        ios_english.append(row)\n",
    "print(len(ios_english))"
   ]
  },
  {
   "cell_type": "code",
   "execution_count": 13,
   "metadata": {},
   "outputs": [],
   "source": [
    "## select free apps"
   ]
  },
  {
   "cell_type": "code",
   "execution_count": 14,
   "metadata": {},
   "outputs": [
    {
     "name": "stdout",
     "output_type": "stream",
     "text": [
      "android\n",
      "8864\n",
      "ios\n",
      "3222\n"
     ]
    }
   ],
   "source": [
    "print(\"android\")\n",
    "android_free = []\n",
    "for row in android_english:\n",
    "    price = row[7]\n",
    "    if price == \"0\":\n",
    "        android_free.append(row)\n",
    "print(len(android_free))\n",
    "\n",
    "print(\"ios\")\n",
    "ios_free = []\n",
    "for row in ios_english:\n",
    "    price = row[4]\n",
    "    if price == '0.0':\n",
    "        ios_free.append(row)\n",
    "print(len(ios_free))"
   ]
  },
  {
   "cell_type": "markdown",
   "metadata": {},
   "source": [
    "# Clean finished"
   ]
  },
  {
   "cell_type": "code",
   "execution_count": 24,
   "metadata": {},
   "outputs": [],
   "source": [
    "def freq_dictionary(dataset,index):\n",
    "    a_dictionary={}\n",
    "    for row in dataset:\n",
    "        value = row[index]\n",
    "        if value in a_dictionary:\n",
    "            a_dictionary[value] += 1\n",
    "        else:\n",
    "            a_dictionary[value] = 1\n",
    "    return a_dictionary\n",
    "\n",
    "def display_freq(dataset,index):\n",
    "    #convert to a list of tuples\n",
    "    length_of_dataset = len(dataset)\n",
    "    a_dictionary = freq_dictionary(dataset,index)\n",
    "    list_of_tuples=[]\n",
    "    for key in a_dictionary:\n",
    "        percentage = (a_dictionary[key]/length_of_dataset)*100\n",
    "        list_of_tuples.append((percentage,key))\n",
    "    list_sorted = sorted(list_of_tuples,reverse=True)\n",
    "    for a_tuple in list_sorted:\n",
    "        print(a_tuple[1],\" : \",a_tuple[0])\n",
    "        \n",
    "def display_popular(dataset,type_index,popular_index):\n",
    "    frequent_dictionary = freq_dictionary(dataset,type_index)\n",
    "    popular_dictionary = {}\n",
    "    \n",
    "    for type_key in frequent_dictionary:\n",
    "        popular_dictionary[type_key] = 0   \n",
    "    for row in dataset:\n",
    "        type_key = row[type_index]\n",
    "        \n",
    "        raw_value = row[popular_index]\n",
    "        raw_value = raw_value.replace(\"+\",\"\")\n",
    "        raw_value = raw_value.replace(\",\",\"\")\n",
    "        \n",
    "        popular_value = int(raw_value)\n",
    "        \n",
    "        popular_dictionary[type_key] += popular_value \n",
    "        \n",
    "        \n",
    "    list_of_tuples=[]\n",
    "    for key in popular_dictionary:\n",
    "        value = popular_dictionary[key]/frequent_dictionary[key]\n",
    "        list_of_tuples.append((value,key))\n",
    "    list_sorted = sorted(list_of_tuples,reverse=True)\n",
    "    for a_tuple in list_sorted:\n",
    "        print(a_tuple[1],\" : \",a_tuple[0])\n",
    "        "
   ]
  },
  {
   "cell_type": "code",
   "execution_count": 16,
   "metadata": {},
   "outputs": [
    {
     "name": "stdout",
     "output_type": "stream",
     "text": [
      "Category \n",
      "\n",
      "FAMILY  :  18.907942238267147\n",
      "GAME  :  9.724729241877256\n",
      "TOOLS  :  8.461191335740072\n",
      "BUSINESS  :  4.591606498194946\n",
      "LIFESTYLE  :  3.9034296028880866\n",
      "PRODUCTIVITY  :  3.892148014440433\n",
      "FINANCE  :  3.7003610108303246\n",
      "MEDICAL  :  3.531137184115524\n",
      "SPORTS  :  3.395758122743682\n",
      "PERSONALIZATION  :  3.3167870036101084\n",
      "COMMUNICATION  :  3.2378158844765346\n",
      "HEALTH_AND_FITNESS  :  3.0798736462093865\n",
      "PHOTOGRAPHY  :  2.944494584837545\n",
      "NEWS_AND_MAGAZINES  :  2.7978339350180503\n",
      "SOCIAL  :  2.6624548736462095\n",
      "TRAVEL_AND_LOCAL  :  2.33528880866426\n",
      "SHOPPING  :  2.2450361010830324\n",
      "BOOKS_AND_REFERENCE  :  2.1435018050541514\n",
      "DATING  :  1.861462093862816\n",
      "VIDEO_PLAYERS  :  1.7937725631768955\n",
      "MAPS_AND_NAVIGATION  :  1.3989169675090252\n",
      "FOOD_AND_DRINK  :  1.2409747292418771\n",
      "EDUCATION  :  1.1620036101083033\n",
      "ENTERTAINMENT  :  0.9589350180505415\n",
      "LIBRARIES_AND_DEMO  :  0.9363718411552346\n",
      "AUTO_AND_VEHICLES  :  0.9250902527075812\n",
      "HOUSE_AND_HOME  :  0.8235559566787004\n",
      "WEATHER  :  0.8009927797833934\n",
      "EVENTS  :  0.7107400722021661\n",
      "PARENTING  :  0.6543321299638989\n",
      "ART_AND_DESIGN  :  0.6430505415162455\n",
      "COMICS  :  0.6204873646209386\n",
      "BEAUTY  :  0.5979241877256317\n"
     ]
    }
   ],
   "source": [
    "print(header_google[1],\"\\n\")\n",
    "display_freq(android_free,1)"
   ]
  },
  {
   "cell_type": "code",
   "execution_count": 17,
   "metadata": {},
   "outputs": [
    {
     "name": "stdout",
     "output_type": "stream",
     "text": [
      "Genres \n",
      "\n",
      "Tools  :  8.449909747292418\n",
      "Entertainment  :  6.069494584837545\n",
      "Education  :  5.347472924187725\n",
      "Business  :  4.591606498194946\n",
      "Productivity  :  3.892148014440433\n",
      "Lifestyle  :  3.892148014440433\n",
      "Finance  :  3.7003610108303246\n",
      "Medical  :  3.531137184115524\n",
      "Sports  :  3.463447653429603\n",
      "Personalization  :  3.3167870036101084\n",
      "Communication  :  3.2378158844765346\n",
      "Action  :  3.1024368231046933\n",
      "Health & Fitness  :  3.0798736462093865\n",
      "Photography  :  2.944494584837545\n",
      "News & Magazines  :  2.7978339350180503\n",
      "Social  :  2.6624548736462095\n",
      "Travel & Local  :  2.3240072202166067\n",
      "Shopping  :  2.2450361010830324\n",
      "Books & Reference  :  2.1435018050541514\n",
      "Simulation  :  2.0419675090252705\n",
      "Dating  :  1.861462093862816\n",
      "Arcade  :  1.8501805054151623\n",
      "Video Players & Editors  :  1.7712093862815883\n",
      "Casual  :  1.7599277978339352\n",
      "Maps & Navigation  :  1.3989169675090252\n",
      "Food & Drink  :  1.2409747292418771\n",
      "Puzzle  :  1.128158844765343\n",
      "Racing  :  0.9927797833935018\n",
      "Role Playing  :  0.9363718411552346\n",
      "Libraries & Demo  :  0.9363718411552346\n",
      "Auto & Vehicles  :  0.9250902527075812\n",
      "Strategy  :  0.9138086642599278\n",
      "House & Home  :  0.8235559566787004\n",
      "Weather  :  0.8009927797833934\n",
      "Events  :  0.7107400722021661\n",
      "Adventure  :  0.6768953068592057\n",
      "Comics  :  0.6092057761732852\n",
      "Beauty  :  0.5979241877256317\n",
      "Art & Design  :  0.5979241877256317\n",
      "Parenting  :  0.4963898916967509\n",
      "Card  :  0.45126353790613716\n",
      "Casino  :  0.42870036101083037\n",
      "Trivia  :  0.41741877256317694\n",
      "Educational;Education  :  0.39485559566787\n",
      "Board  :  0.3835740072202166\n",
      "Educational  :  0.3722924187725632\n",
      "Education;Education  :  0.33844765342960287\n",
      "Word  :  0.2594765342960289\n",
      "Casual;Pretend Play  :  0.236913357400722\n",
      "Music  :  0.2030685920577617\n",
      "Racing;Action & Adventure  :  0.16922382671480143\n",
      "Puzzle;Brain Games  :  0.16922382671480143\n",
      "Entertainment;Music & Video  :  0.16922382671480143\n",
      "Casual;Brain Games  :  0.13537906137184114\n",
      "Casual;Action & Adventure  :  0.13537906137184114\n",
      "Arcade;Action & Adventure  :  0.12409747292418773\n",
      "Action;Action & Adventure  :  0.10153429602888085\n",
      "Educational;Pretend Play  :  0.09025270758122744\n",
      "Simulation;Action & Adventure  :  0.078971119133574\n",
      "Parenting;Education  :  0.078971119133574\n",
      "Entertainment;Brain Games  :  0.078971119133574\n",
      "Board;Brain Games  :  0.078971119133574\n",
      "Parenting;Music & Video  :  0.06768953068592057\n",
      "Educational;Brain Games  :  0.06768953068592057\n",
      "Casual;Creativity  :  0.06768953068592057\n",
      "Art & Design;Creativity  :  0.06768953068592057\n",
      "Education;Pretend Play  :  0.056407942238267145\n",
      "Role Playing;Pretend Play  :  0.04512635379061372\n",
      "Education;Creativity  :  0.04512635379061372\n",
      "Role Playing;Action & Adventure  :  0.033844765342960284\n",
      "Puzzle;Action & Adventure  :  0.033844765342960284\n",
      "Entertainment;Creativity  :  0.033844765342960284\n",
      "Entertainment;Action & Adventure  :  0.033844765342960284\n",
      "Educational;Creativity  :  0.033844765342960284\n",
      "Educational;Action & Adventure  :  0.033844765342960284\n",
      "Education;Music & Video  :  0.033844765342960284\n",
      "Education;Brain Games  :  0.033844765342960284\n",
      "Education;Action & Adventure  :  0.033844765342960284\n",
      "Adventure;Action & Adventure  :  0.033844765342960284\n",
      "Video Players & Editors;Music & Video  :  0.02256317689530686\n",
      "Sports;Action & Adventure  :  0.02256317689530686\n",
      "Simulation;Pretend Play  :  0.02256317689530686\n",
      "Puzzle;Creativity  :  0.02256317689530686\n",
      "Music;Music & Video  :  0.02256317689530686\n",
      "Entertainment;Pretend Play  :  0.02256317689530686\n",
      "Casual;Education  :  0.02256317689530686\n",
      "Board;Action & Adventure  :  0.02256317689530686\n",
      "Video Players & Editors;Creativity  :  0.01128158844765343\n",
      "Trivia;Education  :  0.01128158844765343\n",
      "Travel & Local;Action & Adventure  :  0.01128158844765343\n",
      "Tools;Education  :  0.01128158844765343\n",
      "Strategy;Education  :  0.01128158844765343\n",
      "Strategy;Creativity  :  0.01128158844765343\n",
      "Strategy;Action & Adventure  :  0.01128158844765343\n",
      "Simulation;Education  :  0.01128158844765343\n",
      "Role Playing;Brain Games  :  0.01128158844765343\n",
      "Racing;Pretend Play  :  0.01128158844765343\n",
      "Puzzle;Education  :  0.01128158844765343\n",
      "Parenting;Brain Games  :  0.01128158844765343\n",
      "Music & Audio;Music & Video  :  0.01128158844765343\n",
      "Lifestyle;Pretend Play  :  0.01128158844765343\n",
      "Lifestyle;Education  :  0.01128158844765343\n",
      "Health & Fitness;Education  :  0.01128158844765343\n",
      "Health & Fitness;Action & Adventure  :  0.01128158844765343\n",
      "Entertainment;Education  :  0.01128158844765343\n",
      "Communication;Creativity  :  0.01128158844765343\n",
      "Comics;Creativity  :  0.01128158844765343\n",
      "Casual;Music & Video  :  0.01128158844765343\n",
      "Card;Action & Adventure  :  0.01128158844765343\n",
      "Books & Reference;Education  :  0.01128158844765343\n",
      "Art & Design;Pretend Play  :  0.01128158844765343\n",
      "Art & Design;Action & Adventure  :  0.01128158844765343\n",
      "Arcade;Pretend Play  :  0.01128158844765343\n",
      "Adventure;Education  :  0.01128158844765343\n"
     ]
    }
   ],
   "source": [
    "print(header_google[9],\"\\n\")\n",
    "display_freq(android_free, 9)"
   ]
  },
  {
   "cell_type": "code",
   "execution_count": 18,
   "metadata": {},
   "outputs": [
    {
     "name": "stdout",
     "output_type": "stream",
     "text": [
      "prime_genre \n",
      "\n",
      "Games  :  58.16263190564867\n",
      "Entertainment  :  7.883302296710118\n",
      "Photo & Video  :  4.9658597144630665\n",
      "Education  :  3.662321539416512\n",
      "Social Networking  :  3.2898820608317814\n",
      "Shopping  :  2.60707635009311\n",
      "Utilities  :  2.5139664804469275\n",
      "Sports  :  2.1415270018621975\n",
      "Music  :  2.0484171322160147\n",
      "Health & Fitness  :  2.0173805090006205\n",
      "Productivity  :  1.7380509000620732\n",
      "Lifestyle  :  1.5828677839851024\n",
      "News  :  1.3345747982619491\n",
      "Travel  :  1.2414649286157666\n",
      "Finance  :  1.1173184357541899\n",
      "Weather  :  0.8690254500310366\n",
      "Food & Drink  :  0.8069522036002483\n",
      "Reference  :  0.5586592178770949\n",
      "Business  :  0.5276225946617008\n",
      "Book  :  0.4345127250155183\n",
      "Navigation  :  0.186219739292365\n",
      "Medical  :  0.186219739292365\n",
      "Catalogs  :  0.12414649286157665\n"
     ]
    }
   ],
   "source": [
    "print(header_apple[11],\"\\n\")\n",
    "display_freq(ios_free, 11)"
   ]
  },
  {
   "cell_type": "code",
   "execution_count": 26,
   "metadata": {},
   "outputs": [
    {
     "name": "stdout",
     "output_type": "stream",
     "text": [
      "android_category\n",
      "COMMUNICATION  :  38456119.167247385\n",
      "VIDEO_PLAYERS  :  24727872.452830188\n",
      "SOCIAL  :  23253652.127118643\n",
      "PHOTOGRAPHY  :  17840110.40229885\n",
      "PRODUCTIVITY  :  16787331.344927534\n",
      "GAME  :  15588015.603248259\n",
      "TRAVEL_AND_LOCAL  :  13984077.710144928\n",
      "ENTERTAINMENT  :  11640705.88235294\n",
      "TOOLS  :  10801391.298666667\n",
      "NEWS_AND_MAGAZINES  :  9549178.467741935\n",
      "BOOKS_AND_REFERENCE  :  8767811.894736841\n",
      "SHOPPING  :  7036877.311557789\n",
      "PERSONALIZATION  :  5201482.6122448975\n",
      "WEATHER  :  5074486.197183099\n",
      "HEALTH_AND_FITNESS  :  4188821.9853479853\n",
      "MAPS_AND_NAVIGATION  :  4056941.7741935486\n",
      "FAMILY  :  3695641.8198090694\n",
      "SPORTS  :  3638640.1428571427\n",
      "ART_AND_DESIGN  :  1986335.0877192982\n",
      "FOOD_AND_DRINK  :  1924897.7363636363\n",
      "EDUCATION  :  1833495.145631068\n",
      "BUSINESS  :  1712290.1474201474\n",
      "LIFESTYLE  :  1437816.2687861272\n",
      "FINANCE  :  1387692.475609756\n",
      "HOUSE_AND_HOME  :  1331540.5616438356\n",
      "DATING  :  854028.8303030303\n",
      "COMICS  :  817657.2727272727\n",
      "AUTO_AND_VEHICLES  :  647317.8170731707\n",
      "LIBRARIES_AND_DEMO  :  638503.734939759\n",
      "PARENTING  :  542603.6206896552\n",
      "BEAUTY  :  513151.88679245283\n",
      "EVENTS  :  253542.22222222222\n",
      "MEDICAL  :  120550.61980830671\n"
     ]
    }
   ],
   "source": [
    "print(\"android_category\");\n",
    "display_popular(android_free,1,5)"
   ]
  },
  {
   "cell_type": "code",
   "execution_count": 29,
   "metadata": {},
   "outputs": [
    {
     "name": "stdout",
     "output_type": "stream",
     "text": [
      "android_genres\n",
      "Communication  :  38456119.167247385\n",
      "Adventure;Action & Adventure  :  35333333.333333336\n",
      "Video Players & Editors  :  24947335.796178345\n",
      "Social  :  23253652.127118643\n",
      "Arcade  :  22888365.48780488\n",
      "Casual  :  19569221.602564104\n",
      "Puzzle;Action & Adventure  :  18366666.666666668\n",
      "Photography  :  17840110.40229885\n",
      "Educational;Action & Adventure  :  17016666.666666668\n",
      "Productivity  :  16787331.344927534\n",
      "Racing  :  15910645.681818182\n",
      "Travel & Local  :  14051476.145631067\n",
      "Casual;Action & Adventure  :  12916666.666666666\n",
      "Action  :  12603588.872727273\n",
      "Strategy  :  11199902.530864198\n",
      "Tools  :  10802461.246995995\n",
      "Tools;Education  :  10000000.0\n",
      "Role Playing;Brain Games  :  10000000.0\n",
      "Lifestyle;Pretend Play  :  10000000.0\n",
      "Casual;Music & Video  :  10000000.0\n",
      "Card;Action & Adventure  :  10000000.0\n",
      "Adventure;Education  :  10000000.0\n",
      "News & Magazines  :  9549178.467741935\n",
      "Music  :  9445583.333333334\n",
      "Educational;Pretend Play  :  9375000.0\n",
      "Puzzle;Brain Games  :  9280666.666666666\n",
      "Word  :  9094458.695652174\n",
      "Racing;Action & Adventure  :  8816666.666666666\n",
      "Books & Reference  :  8767811.894736841\n",
      "Puzzle  :  8302861.91\n",
      "Video Players & Editors;Music & Video  :  7500000.0\n",
      "Shopping  :  7036877.311557789\n",
      "Role Playing;Action & Adventure  :  7000000.0\n",
      "Casual;Pretend Play  :  6957142.857142857\n",
      "Entertainment;Music & Video  :  6413333.333333333\n",
      "Action;Action & Adventure  :  5888888.888888889\n",
      "Entertainment  :  5602792.775092937\n",
      "Education;Brain Games  :  5333333.333333333\n",
      "Casual;Creativity  :  5333333.333333333\n",
      "Role Playing;Pretend Play  :  5275000.0\n",
      "Personalization  :  5201482.6122448975\n",
      "Weather  :  5074486.197183099\n",
      "Sports;Action & Adventure  :  5050000.0\n",
      "Music;Music & Video  :  5050000.0\n",
      "Video Players & Editors;Creativity  :  5000000.0\n",
      "Adventure  :  4922785.333333333\n",
      "Simulation;Action & Adventure  :  4857142.857142857\n",
      "Education;Education  :  4759517.0\n",
      "Board  :  4759209.117647059\n",
      "Sports  :  4596842.615635179\n",
      "Educational;Brain Games  :  4433333.333333333\n",
      "Health & Fitness  :  4188821.9853479853\n",
      "Maps & Navigation  :  4056941.7741935486\n",
      "Entertainment;Creativity  :  4000000.0\n",
      "Role Playing  :  3965645.421686747\n",
      "Card  :  3815462.5\n",
      "Trivia  :  3475712.7027027025\n",
      "Simulation  :  3475484.08839779\n",
      "Casino  :  3427910.5263157897\n",
      "Entertainment;Brain Games  :  3314285.714285714\n",
      "Arcade;Action & Adventure  :  3190909.1818181816\n",
      "Entertainment;Pretend Play  :  3000000.0\n",
      "Board;Action & Adventure  :  3000000.0\n",
      "Education;Creativity  :  2875000.0\n",
      "Entertainment;Action & Adventure  :  2333333.3333333335\n",
      "Educational;Creativity  :  2333333.3333333335\n",
      "Art & Design  :  2122850.9433962265\n",
      "Education;Music & Video  :  2033333.3333333333\n",
      "Food & Drink  :  1924897.7363636363\n",
      "Education;Pretend Play  :  1800000.0\n",
      "Educational;Education  :  1737143.142857143\n",
      "Business  :  1712290.1474201474\n",
      "Casual;Brain Games  :  1425916.6666666667\n",
      "Lifestyle  :  1412998.3449275363\n",
      "Finance  :  1387692.475609756\n",
      "House & Home  :  1331540.5616438356\n",
      "Parenting;Music & Video  :  1118333.3333333333\n",
      "Strategy;Creativity  :  1000000.0\n",
      "Strategy;Action & Adventure  :  1000000.0\n",
      "Racing;Pretend Play  :  1000000.0\n",
      "Parenting;Brain Games  :  1000000.0\n",
      "Health & Fitness;Action & Adventure  :  1000000.0\n",
      "Entertainment;Education  :  1000000.0\n",
      "Education;Action & Adventure  :  1000000.0\n",
      "Casual;Education  :  1000000.0\n",
      "Arcade;Pretend Play  :  1000000.0\n",
      "Dating  :  854028.8303030303\n",
      "Comics  :  831873.1481481482\n",
      "Puzzle;Creativity  :  750000.0\n",
      "Auto & Vehicles  :  647317.8170731707\n",
      "Libraries & Demo  :  638503.734939759\n",
      "Education  :  550185.4430379746\n",
      "Simulation;Pretend Play  :  550000.0\n",
      "Beauty  :  513151.88679245283\n",
      "Strategy;Education  :  500000.0\n",
      "Music & Audio;Music & Video  :  500000.0\n",
      "Communication;Creativity  :  500000.0\n",
      "Art & Design;Pretend Play  :  500000.0\n",
      "Parenting  :  467977.5\n",
      "Parenting;Education  :  452857.14285714284\n",
      "Educational  :  411184.8484848485\n",
      "Board;Brain Games  :  407142.85714285716\n",
      "Art & Design;Creativity  :  285000.0\n",
      "Events  :  253542.22222222222\n",
      "Medical  :  120550.61980830671\n",
      "Travel & Local;Action & Adventure  :  100000.0\n",
      "Puzzle;Education  :  100000.0\n",
      "Lifestyle;Education  :  100000.0\n",
      "Health & Fitness;Education  :  100000.0\n",
      "Art & Design;Action & Adventure  :  100000.0\n",
      "Comics;Creativity  :  50000.0\n",
      "Books & Reference;Education  :  1000.0\n",
      "Simulation;Education  :  500.0\n",
      "Trivia;Education  :  100.0\n"
     ]
    }
   ],
   "source": [
    "print(\"android_genres\");\n",
    "display_popular(android_free,9,5)"
   ]
  },
  {
   "cell_type": "code",
   "execution_count": 32,
   "metadata": {},
   "outputs": [
    {
     "name": "stdout",
     "output_type": "stream",
     "text": [
      "ios_primegenres\n",
      "Navigation  :  86090.33333333333\n",
      "Reference  :  74942.11111111111\n",
      "Social Networking  :  71548.34905660378\n",
      "Music  :  57326.530303030304\n",
      "Weather  :  52279.892857142855\n",
      "Book  :  39758.5\n",
      "Food & Drink  :  33333.92307692308\n",
      "Finance  :  31467.944444444445\n",
      "Photo & Video  :  28441.54375\n",
      "Travel  :  28243.8\n",
      "Shopping  :  26919.690476190477\n",
      "Health & Fitness  :  23298.015384615384\n",
      "Sports  :  23008.898550724636\n",
      "Games  :  22788.6696905016\n",
      "News  :  21248.023255813954\n",
      "Productivity  :  21028.410714285714\n",
      "Utilities  :  18684.456790123455\n",
      "Lifestyle  :  16485.764705882353\n",
      "Entertainment  :  14029.830708661417\n",
      "Business  :  7491.117647058823\n",
      "Education  :  7003.983050847458\n",
      "Catalogs  :  4004.0\n",
      "Medical  :  612.0\n"
     ]
    }
   ],
   "source": [
    "print(\"ios_primegenres\");\n",
    "display_popular(ios_free,11,5)"
   ]
  },
  {
   "cell_type": "code",
   "execution_count": null,
   "metadata": {},
   "outputs": [],
   "source": []
  }
 ],
 "metadata": {
  "kernelspec": {
   "display_name": "Python 3",
   "language": "python",
   "name": "python3"
  },
  "language_info": {
   "codemirror_mode": {
    "name": "ipython",
    "version": 3
   },
   "file_extension": ".py",
   "mimetype": "text/x-python",
   "name": "python",
   "nbconvert_exporter": "python",
   "pygments_lexer": "ipython3",
   "version": "3.7.4"
  }
 },
 "nbformat": 4,
 "nbformat_minor": 2
}
